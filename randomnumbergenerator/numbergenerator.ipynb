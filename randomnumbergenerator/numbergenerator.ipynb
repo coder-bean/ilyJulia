{
 "cells": [
  {
   "cell_type": "code",
   "execution_count": 3,
   "id": "84c592bf-54eb-47c1-aa6f-2cd68c5e8d0b",
   "metadata": {},
   "outputs": [
    {
     "data": {
      "text/plain": [
       "initialize_qubit (generic function with 1 method)"
      ]
     },
     "execution_count": 3,
     "metadata": {},
     "output_type": "execute_result"
    }
   ],
   "source": [
    "using Random\n",
    "\n",
    "# Define initial quantum state |0⟩\n",
    "function initialize_qubit()\n",
    "    return [1.0, 0.0]  # Represent |0⟩ as a complex vector [1.0, 0.0]\n",
    "end"
   ]
  },
  {
   "cell_type": "code",
   "execution_count": 4,
   "id": "836219da-3c7b-4e40-9f67-7f55ec7d95f2",
   "metadata": {},
   "outputs": [
    {
     "data": {
      "text/plain": [
       "apply_hadamard (generic function with 1 method)"
      ]
     },
     "execution_count": 4,
     "metadata": {},
     "output_type": "execute_result"
    }
   ],
   "source": [
    "# Apply the Hadamard gate to create a superposition\n",
    "function apply_hadamard(state)\n",
    "    H = 1 / √2 * [1.0 1.0; 1.0 -1.0]\n",
    "    return H * state\n",
    "end\n",
    "\n"
   ]
  },
  {
   "cell_type": "code",
   "execution_count": 5,
   "id": "65532e12-657a-4e2e-8311-a67d802829ef",
   "metadata": {},
   "outputs": [
    {
     "data": {
      "text/plain": [
       "measure_qubit (generic function with 1 method)"
      ]
     },
     "execution_count": 5,
     "metadata": {},
     "output_type": "execute_result"
    }
   ],
   "source": [
    "# Measure the qubit\n",
    "function measure_qubit(state)\n",
    "    outcome = rand(Bool) ? 0 : 1  # Randomly choose 0 or 1\n",
    "    return outcome\n",
    "end\n",
    "\n"
   ]
  },
  {
   "cell_type": "code",
   "execution_count": 6,
   "id": "dd5bf99a-54fc-4438-b323-865d557303ed",
   "metadata": {},
   "outputs": [
    {
     "data": {
      "text/plain": [
       "quantum_circuit (generic function with 1 method)"
      ]
     },
     "execution_count": 6,
     "metadata": {},
     "output_type": "execute_result"
    }
   ],
   "source": [
    "# Simulate the quantum circuit\n",
    "function quantum_circuit()\n",
    "    qubit = initialize_qubit()\n",
    "    qubit = apply_hadamard(qubit)\n",
    "    outcome = measure_qubit(qubit)\n",
    "    return outcome\n",
    "end"
   ]
  },
  {
   "cell_type": "code",
   "execution_count": 9,
   "id": "0bb458f4-4174-453f-a519-958e4d53ca95",
   "metadata": {},
   "outputs": [],
   "source": [
    "# Perform the quantum measurement multiple times to observe randomness\n",
    "n_shots = 10\n",
    "outcomes = [quantum_circuit() for _ in 1:n_shots];"
   ]
  },
  {
   "cell_type": "code",
   "execution_count": 10,
   "id": "b39861ee-d813-4016-9c42-c0761a95f6d5",
   "metadata": {},
   "outputs": [
    {
     "name": "stdout",
     "output_type": "stream",
     "text": [
      "Shot 1: Outcome = 0\n",
      "Shot 2: Outcome = 0\n",
      "Shot 3: Outcome = 0\n",
      "Shot 4: Outcome = 1\n",
      "Shot 5: Outcome = 0\n",
      "Shot 6: Outcome = 1\n",
      "Shot 7: Outcome = 1\n",
      "Shot 8: Outcome = 1\n",
      "Shot 9: Outcome = 0\n",
      "Shot 10: Outcome = 0\n"
     ]
    }
   ],
   "source": [
    "# Display the outcomes\n",
    "for (i, outcome) in enumerate(outcomes)\n",
    "    println(\"Shot $i: Outcome = $outcome\")\n",
    "end"
   ]
  },
  {
   "cell_type": "code",
   "execution_count": null,
   "id": "9fcf0b2b-454b-40b2-a3aa-786f20d5310b",
   "metadata": {},
   "outputs": [],
   "source": []
  }
 ],
 "metadata": {
  "kernelspec": {
   "display_name": "Julia 1.9.3",
   "language": "julia",
   "name": "julia-1.9"
  },
  "language_info": {
   "file_extension": ".jl",
   "mimetype": "application/julia",
   "name": "julia",
   "version": "1.9.3"
  }
 },
 "nbformat": 4,
 "nbformat_minor": 5
}
